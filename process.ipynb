{
 "cells": [
  {
   "cell_type": "code",
   "execution_count": 33,
   "source": [
    "import pandas as pd\r\n",
    "\r\n",
    "DATASETS = ['2021-02-gasolina-etanol.csv', '2021-03-gasolina-etanol.csv', '2021-04-gasolina-etanol.csv',\r\n",
    "    '2021-05-gasolina-etanol-1.csv', '2021-06-gasolina-etanol.csv', '2021-07-gasolina-etanol.csv']"
   ],
   "outputs": [],
   "metadata": {}
  },
  {
   "cell_type": "code",
   "execution_count": 26,
   "source": [
    "def fitlerDataset(dataset, collum, value):\r\n",
    "    '''\r\n",
    "    Return a new dataset filtred the collum by the value given\r\n",
    "    '''\r\n",
    "    return dataset[dataset[collum] == value]\r\n"
   ],
   "outputs": [],
   "metadata": {}
  },
  {
   "cell_type": "code",
   "execution_count": 39,
   "source": [
    "def getMaxPriceByState():\r\n",
    "    '''\r\n",
    "    Get the max gasolin price in 2021 year by state\r\n",
    "    '''\r\n",
    "    datatojoin = []\r\n",
    "    \r\n",
    "    for dataset in DATASETS:\r\n",
    "        datatojoin.append(pd.read_csv('datasets/' + dataset, ';'))\r\n",
    "\r\n",
    "    dataset = pd.concat(datatojoin)\r\n",
    "\r\n",
    "    dataset = fitlerDataset(dataset, 'Produto', 'GASOLINA')\r\n",
    "\r\n",
    "    states = set(dataset['Estado - Sigla'])\r\n",
    "\r\n",
    "    result = {}\r\n",
    "\r\n",
    "    for state in states:\r\n",
    "        result[state] = fitlerDataset(dataset, 'Estado - Sigla', state)['Valor de Venda'].max()\r\n",
    "    \r\n",
    "    return result\r\n"
   ],
   "outputs": [],
   "metadata": {}
  },
  {
   "cell_type": "code",
   "execution_count": 42,
   "source": [
    "print(getMaxPriceByState())\r\n",
    "\r\n"
   ],
   "outputs": [
    {
     "output_type": "stream",
     "name": "stdout",
     "text": [
      "{'SE': '5,999', 'ES': '6,905', 'RN': '6,499', 'MG': '6,997', 'PI': '6,499', 'SC': '6,139', 'MS': '6,33', 'AP': '5,7', 'PE': '6,429', 'MT': '6,537', 'AM': '6,05', 'TO': '6,23', 'BA': '6,499', 'RR': '5,65', 'DF': '6,299', 'MA': '6,23', 'GO': '6,65', 'RJ': '6,96', 'PB': '5,93', 'RO': '6,34', 'RS': '6,999', 'PA': '6,659', 'AC': '6,99', 'PR': '6,35', 'AL': '6,599', 'CE': '6,35', 'SP': '6,499'}\n"
     ]
    }
   ],
   "metadata": {}
  }
 ],
 "metadata": {
  "orig_nbformat": 4,
  "language_info": {
   "name": "python",
   "version": "3.7.9",
   "mimetype": "text/x-python",
   "codemirror_mode": {
    "name": "ipython",
    "version": 3
   },
   "pygments_lexer": "ipython3",
   "nbconvert_exporter": "python",
   "file_extension": ".py"
  },
  "kernelspec": {
   "name": "python3",
   "display_name": "Python 3.7.9 64-bit"
  },
  "interpreter": {
   "hash": "3728d54920b36519bde81b6e868cbf3202350ad88864b9fe60d893204703d63d"
  }
 },
 "nbformat": 4,
 "nbformat_minor": 2
}