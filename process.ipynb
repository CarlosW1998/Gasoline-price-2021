{
 "cells": [
  {
   "cell_type": "code",
   "execution_count": 103,
   "source": [
    "import pandas as pd\r\n",
    "\r\n",
    "DATASETS = ['2021-02-gasolina-etanol.csv', '2021-03-gasolina-etanol.csv', '2021-04-gasolina-etanol.csv',\r\n",
    "    '2021-05-gasolina-etanol-1.csv', '2021-06-gasolina-etanol.csv', '2021-07-gasolina-etanol.csv']\r\n",
    "MONTHS = ['FEVEREIRO', 'MARÇO', 'ABRIL', 'MAIO', 'JUNHO, JULHO']"
   ],
   "outputs": [],
   "metadata": {}
  },
  {
   "cell_type": "code",
   "execution_count": 26,
   "source": [
    "def fitlerDataset(dataset, collum, value):\r\n",
    "    '''\r\n",
    "    Return a new dataset filtred the collum by the value given\r\n",
    "    '''\r\n",
    "    return dataset[dataset[collum] == value]\r\n"
   ],
   "outputs": [],
   "metadata": {}
  },
  {
   "cell_type": "code",
   "execution_count": 80,
   "source": [
    "def getMaxPriceByState():\r\n",
    "    '''\r\n",
    "    Get the max gasolin price in 2021 year by state\r\n",
    "    '''\r\n",
    "    datatojoin = []\r\n",
    "    \r\n",
    "    for dataset in DATASETS:\r\n",
    "        datatojoin.append(pd.read_csv('datasets/' + dataset, ';'))\r\n",
    "\r\n",
    "    dataset = pd.concat(datatojoin)\r\n",
    "    dataset = fitlerDataset(dataset, 'Produto', 'GASOLINA')\r\n",
    "    states = set(dataset['Estado - Sigla'])\r\n",
    "    result = {}\r\n",
    "\r\n",
    "    for state in states:\r\n",
    "        filtredData = fitlerDataset(dataset, 'Estado - Sigla', state)\r\n",
    "        result[state] = filtredData['Valor de Venda'].apply(lambda x: x.replace(',', '.')).max()\r\n",
    "    \r\n",
    "    return result\r\n"
   ],
   "outputs": [],
   "metadata": {}
  },
  {
   "cell_type": "code",
   "execution_count": 106,
   "source": [
    "def getMeanPriceByMonth():\r\n",
    "    '''\r\n",
    "    Get the mean of gasoline price dived by month in 2021\r\n",
    "    '''\r\n",
    "    means = []\r\n",
    "\r\n",
    "    for dataset in DATASETS:\r\n",
    "        monthdataset = pd.read_csv('datasets/' + dataset, ';')\r\n",
    "        filtred = fitlerDataset(monthdataset, 'Produto', 'GASOLINA')\r\n",
    "        filtred['Valor de Venda'] = filtred['Valor de Venda'].apply(lambda x: float(x.replace(',', '.')))\r\n",
    "        means.append(filtred['Valor de Venda'].mean())\r\n",
    "    pritn(len(means))\r\n",
    "    # df = pd.DataFrame({'lab':MONTHS, 'val':means})\r\n",
    "    # ax = df.plot.bar(x='lab', y='val', rot=0)\r\n",
    "    \r\n",
    "getMeanPriceByMonth()"
   ],
   "outputs": [
    {
     "output_type": "stream",
     "name": "stderr",
     "text": [
      "C:\\Users\\carlo\\AppData\\Roaming\\Python\\Python37\\site-packages\\ipykernel_launcher.py:10: SettingWithCopyWarning: \n",
      "A value is trying to be set on a copy of a slice from a DataFrame.\n",
      "Try using .loc[row_indexer,col_indexer] = value instead\n",
      "\n",
      "See the caveats in the documentation: https://pandas.pydata.org/pandas-docs/stable/user_guide/indexing.html#returning-a-view-versus-a-copy\n",
      "  # Remove the CWD from sys.path while we load stuff.\n"
     ]
    },
    {
     "output_type": "error",
     "ename": "NameError",
     "evalue": "name 'pritn' is not defined",
     "traceback": [
      "\u001b[1;31m---------------------------------------------------------------------------\u001b[0m",
      "\u001b[1;31mNameError\u001b[0m                                 Traceback (most recent call last)",
      "\u001b[1;32m<ipython-input-106-62aea7a64939>\u001b[0m in \u001b[0;36m<module>\u001b[1;34m\u001b[0m\n\u001b[0;32m     14\u001b[0m     \u001b[1;31m# ax = df.plot.bar(x='lab', y='val', rot=0)\u001b[0m\u001b[1;33m\u001b[0m\u001b[1;33m\u001b[0m\u001b[1;33m\u001b[0m\u001b[0m\n\u001b[0;32m     15\u001b[0m \u001b[1;33m\u001b[0m\u001b[0m\n\u001b[1;32m---> 16\u001b[1;33m \u001b[0mgetMeanPriceByMonth\u001b[0m\u001b[1;33m(\u001b[0m\u001b[1;33m)\u001b[0m\u001b[1;33m\u001b[0m\u001b[1;33m\u001b[0m\u001b[0m\n\u001b[0m",
      "\u001b[1;32m<ipython-input-106-62aea7a64939>\u001b[0m in \u001b[0;36mgetMeanPriceByMonth\u001b[1;34m()\u001b[0m\n\u001b[0;32m     10\u001b[0m         \u001b[0mfiltred\u001b[0m\u001b[1;33m[\u001b[0m\u001b[1;34m'Valor de Venda'\u001b[0m\u001b[1;33m]\u001b[0m \u001b[1;33m=\u001b[0m \u001b[0mfiltred\u001b[0m\u001b[1;33m[\u001b[0m\u001b[1;34m'Valor de Venda'\u001b[0m\u001b[1;33m]\u001b[0m\u001b[1;33m.\u001b[0m\u001b[0mapply\u001b[0m\u001b[1;33m(\u001b[0m\u001b[1;32mlambda\u001b[0m \u001b[0mx\u001b[0m\u001b[1;33m:\u001b[0m \u001b[0mfloat\u001b[0m\u001b[1;33m(\u001b[0m\u001b[0mx\u001b[0m\u001b[1;33m.\u001b[0m\u001b[0mreplace\u001b[0m\u001b[1;33m(\u001b[0m\u001b[1;34m','\u001b[0m\u001b[1;33m,\u001b[0m \u001b[1;34m'.'\u001b[0m\u001b[1;33m)\u001b[0m\u001b[1;33m)\u001b[0m\u001b[1;33m)\u001b[0m\u001b[1;33m\u001b[0m\u001b[1;33m\u001b[0m\u001b[0m\n\u001b[0;32m     11\u001b[0m         \u001b[0mmeans\u001b[0m\u001b[1;33m.\u001b[0m\u001b[0mappend\u001b[0m\u001b[1;33m(\u001b[0m\u001b[0mfiltred\u001b[0m\u001b[1;33m[\u001b[0m\u001b[1;34m'Valor de Venda'\u001b[0m\u001b[1;33m]\u001b[0m\u001b[1;33m.\u001b[0m\u001b[0mmean\u001b[0m\u001b[1;33m(\u001b[0m\u001b[1;33m)\u001b[0m\u001b[1;33m)\u001b[0m\u001b[1;33m\u001b[0m\u001b[1;33m\u001b[0m\u001b[0m\n\u001b[1;32m---> 12\u001b[1;33m     \u001b[0mpritn\u001b[0m\u001b[1;33m(\u001b[0m\u001b[0mlen\u001b[0m\u001b[1;33m(\u001b[0m\u001b[0mmeans\u001b[0m\u001b[1;33m)\u001b[0m\u001b[1;33m)\u001b[0m\u001b[1;33m\u001b[0m\u001b[1;33m\u001b[0m\u001b[0m\n\u001b[0m\u001b[0;32m     13\u001b[0m     \u001b[1;31m# df = pd.DataFrame({'lab':MONTHS, 'val':means})\u001b[0m\u001b[1;33m\u001b[0m\u001b[1;33m\u001b[0m\u001b[1;33m\u001b[0m\u001b[0m\n\u001b[0;32m     14\u001b[0m     \u001b[1;31m# ax = df.plot.bar(x='lab', y='val', rot=0)\u001b[0m\u001b[1;33m\u001b[0m\u001b[1;33m\u001b[0m\u001b[1;33m\u001b[0m\u001b[0m\n",
      "\u001b[1;31mNameError\u001b[0m: name 'pritn' is not defined"
     ]
    }
   ],
   "metadata": {}
  },
  {
   "cell_type": "code",
   "execution_count": 81,
   "source": [
    "print(getMaxPriceByState())\r\n",
    "\r\n"
   ],
   "outputs": [
    {
     "output_type": "stream",
     "name": "stdout",
     "text": [
      "{'SE': '5.999', 'ES': '6.905', 'RN': '6.499', 'MG': '6.997', 'PI': '6.499', 'SC': '6.139', 'MS': '6.33', 'AP': '5.7', 'PE': '6.429', 'MT': '6.537', 'AM': '6.05', 'TO': '6.23', 'BA': '6.499', 'RR': '5.65', 'DF': '6.299', 'MA': '6.23', 'GO': '6.65', 'RJ': '6.96', 'PB': '5.93', 'RO': '6.34', 'RS': '6.999', 'PA': '6.659', 'AC': '6.99', 'PR': '6.35', 'AL': '6.599', 'CE': '6.35', 'SP': '6.499'}\n"
     ]
    }
   ],
   "metadata": {}
  }
 ],
 "metadata": {
  "orig_nbformat": 4,
  "language_info": {
   "name": "python",
   "version": "3.7.9",
   "mimetype": "text/x-python",
   "codemirror_mode": {
    "name": "ipython",
    "version": 3
   },
   "pygments_lexer": "ipython3",
   "nbconvert_exporter": "python",
   "file_extension": ".py"
  },
  "kernelspec": {
   "name": "python3",
   "display_name": "Python 3.7.9 64-bit"
  },
  "interpreter": {
   "hash": "3728d54920b36519bde81b6e868cbf3202350ad88864b9fe60d893204703d63d"
  }
 },
 "nbformat": 4,
 "nbformat_minor": 2
}